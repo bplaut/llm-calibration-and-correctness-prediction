{
 "cells": [
  {
   "cell_type": "code",
   "execution_count": 1,
   "id": "14fe27fc-cf1e-4af7-9060-bb27bd191b95",
   "metadata": {},
   "outputs": [],
   "source": [
    "import pandas as pd"
   ]
  },
  {
   "cell_type": "code",
   "execution_count": 2,
   "id": "8cafb9d5-f7e0-48ff-90bf-131f98d608ea",
   "metadata": {},
   "outputs": [],
   "source": [
    "ALL_DATASETS = [\"arc\", \"hellaswag\", \"mmlu\", \"truthfulqa\", \"winogrande\"]\n",
    "ALL_MODELS = [\"Falcon-7b\", \"Falcon-40b\", \"gpt-3.5-turbo\", \"gpt-4-turbo\", \"Llama-7b\", \"Llama-13b\", \"Llama-70b\", \"Llama3-8b\", \"Llama3-70b\", \"Mistral\", \"Mixtral\", \"Solar\", \"Yi-6b\", \"Yi-34b\"]\n",
    "ALL_PROMPTS = [\"first_prompt\", \"second_prompt\"]\n",
    "ALL_VALUES = [\"raw_logits\", \"norm_logits\"]"
   ]
  },
  {
   "cell_type": "markdown",
   "id": "adeb1733-781f-4cf5-9279-1b50e873f885",
   "metadata": {},
   "source": [
    "## Mann-Whitney"
   ]
  },
  {
   "cell_type": "code",
   "execution_count": 3,
   "id": "14a5e9f5-c08f-409f-8d1c-5ca336494421",
   "metadata": {},
   "outputs": [],
   "source": [
    "mw_results = pd.read_csv(\"./stat_tests_output/mann_whitney.csv\")\n",
    "mw_results[\"value\"] = mw_results[\"value\"].apply(lambda n: \"max logit\" if n == \"raw_logits\" else \"MSP\")"
   ]
  },
  {
   "cell_type": "code",
   "execution_count": 4,
   "id": "94ea4f33-b095-445c-949b-835833fefe7c",
   "metadata": {},
   "outputs": [
    {
     "name": "stdout",
     "output_type": "stream",
     "text": [
      "Across all datasets and prompts\n"
     ]
    },
    {
     "data": {
      "text/html": [
       "<div>\n",
       "<style scoped>\n",
       "    .dataframe tbody tr th:only-of-type {\n",
       "        vertical-align: middle;\n",
       "    }\n",
       "\n",
       "    .dataframe tbody tr th {\n",
       "        vertical-align: top;\n",
       "    }\n",
       "\n",
       "    .dataframe thead th {\n",
       "        text-align: right;\n",
       "    }\n",
       "</style>\n",
       "<table border=\"1\" class=\"dataframe\">\n",
       "  <thead>\n",
       "    <tr style=\"text-align: right;\">\n",
       "      <th>value</th>\n",
       "      <th>MSP</th>\n",
       "      <th>max logit</th>\n",
       "    </tr>\n",
       "    <tr>\n",
       "      <th>model</th>\n",
       "      <th></th>\n",
       "      <th></th>\n",
       "    </tr>\n",
       "  </thead>\n",
       "  <tbody>\n",
       "    <tr>\n",
       "      <th>Falcon-40b</th>\n",
       "      <td>3.031019e-01</td>\n",
       "      <td>9.657384e-01</td>\n",
       "    </tr>\n",
       "    <tr>\n",
       "      <th>Falcon-7b</th>\n",
       "      <td>9.380454e-01</td>\n",
       "      <td>9.908665e-01</td>\n",
       "    </tr>\n",
       "    <tr>\n",
       "      <th>Llama-13b</th>\n",
       "      <td>4.574468e-02</td>\n",
       "      <td>5.745981e-02</td>\n",
       "    </tr>\n",
       "    <tr>\n",
       "      <th>Llama-70b</th>\n",
       "      <td>3.717172e-13</td>\n",
       "      <td>4.643834e-02</td>\n",
       "    </tr>\n",
       "    <tr>\n",
       "      <th>Llama-7b</th>\n",
       "      <td>8.049005e-01</td>\n",
       "      <td>4.232695e-01</td>\n",
       "    </tr>\n",
       "    <tr>\n",
       "      <th>Llama3-70b</th>\n",
       "      <td>3.389897e-40</td>\n",
       "      <td>1.735862e-18</td>\n",
       "    </tr>\n",
       "    <tr>\n",
       "      <th>Llama3-8b</th>\n",
       "      <td>3.035213e-16</td>\n",
       "      <td>4.083141e-10</td>\n",
       "    </tr>\n",
       "    <tr>\n",
       "      <th>Mistral</th>\n",
       "      <td>4.045435e-06</td>\n",
       "      <td>5.243064e-06</td>\n",
       "    </tr>\n",
       "    <tr>\n",
       "      <th>Mixtral</th>\n",
       "      <td>1.046939e-05</td>\n",
       "      <td>5.536093e-08</td>\n",
       "    </tr>\n",
       "    <tr>\n",
       "      <th>Solar</th>\n",
       "      <td>4.236637e-03</td>\n",
       "      <td>1.947827e-07</td>\n",
       "    </tr>\n",
       "    <tr>\n",
       "      <th>Yi-34b</th>\n",
       "      <td>1.343982e-13</td>\n",
       "      <td>7.268108e-14</td>\n",
       "    </tr>\n",
       "    <tr>\n",
       "      <th>Yi-6b</th>\n",
       "      <td>4.757206e-13</td>\n",
       "      <td>2.349144e-09</td>\n",
       "    </tr>\n",
       "    <tr>\n",
       "      <th>gpt-3.5-turbo</th>\n",
       "      <td>1.282146e-24</td>\n",
       "      <td>NaN</td>\n",
       "    </tr>\n",
       "    <tr>\n",
       "      <th>gpt-4-turbo</th>\n",
       "      <td>1.186511e-40</td>\n",
       "      <td>NaN</td>\n",
       "    </tr>\n",
       "  </tbody>\n",
       "</table>\n",
       "</div>"
      ],
      "text/plain": [
       "value                   MSP     max logit\n",
       "model                                    \n",
       "Falcon-40b     3.031019e-01  9.657384e-01\n",
       "Falcon-7b      9.380454e-01  9.908665e-01\n",
       "Llama-13b      4.574468e-02  5.745981e-02\n",
       "Llama-70b      3.717172e-13  4.643834e-02\n",
       "Llama-7b       8.049005e-01  4.232695e-01\n",
       "Llama3-70b     3.389897e-40  1.735862e-18\n",
       "Llama3-8b      3.035213e-16  4.083141e-10\n",
       "Mistral        4.045435e-06  5.243064e-06\n",
       "Mixtral        1.046939e-05  5.536093e-08\n",
       "Solar          4.236637e-03  1.947827e-07\n",
       "Yi-34b         1.343982e-13  7.268108e-14\n",
       "Yi-6b          4.757206e-13  2.349144e-09\n",
       "gpt-3.5-turbo  1.282146e-24           NaN\n",
       "gpt-4-turbo    1.186511e-40           NaN"
      ]
     },
     "execution_count": 4,
     "metadata": {},
     "output_type": "execute_result"
    }
   ],
   "source": [
    "print(\"Across all datasets and prompts\")\n",
    "pd.pivot_table(mw_results,\n",
    "               index = [\"model\"],\n",
    "               columns = [\"value\"],\n",
    "               values = \"p_value\",\n",
    "               aggfunc = \"max\")"
   ]
  },
  {
   "cell_type": "code",
   "execution_count": 5,
   "id": "50bf5ccb-9278-4d39-b944-ee02f847d274",
   "metadata": {},
   "outputs": [
    {
     "data": {
      "text/plain": [
       "model          value    \n",
       "Falcon-40b     MSP           7\n",
       "               max logit     4\n",
       "Falcon-7b      MSP           1\n",
       "               max logit     0\n",
       "Llama-13b      MSP           6\n",
       "               max logit     6\n",
       "Llama-70b      MSP          10\n",
       "               max logit     8\n",
       "Llama-7b       MSP           6\n",
       "               max logit     5\n",
       "Llama3-70b     MSP          10\n",
       "               max logit    10\n",
       "Llama3-8b      MSP          10\n",
       "               max logit    10\n",
       "Mistral        MSP          10\n",
       "               max logit    10\n",
       "Mixtral        MSP          10\n",
       "               max logit    10\n",
       "Solar          MSP           9\n",
       "               max logit    10\n",
       "Yi-34b         MSP          10\n",
       "               max logit    10\n",
       "Yi-6b          MSP          10\n",
       "               max logit    10\n",
       "gpt-3.5-turbo  MSP          10\n",
       "gpt-4-turbo    MSP          10\n",
       "Name: small_p, dtype: int64"
      ]
     },
     "execution_count": 5,
     "metadata": {},
     "output_type": "execute_result"
    }
   ],
   "source": [
    "mw_results[\"small_p\"] = mw_results[\"p_value\"] < 1e-4\n",
    "mw_results[\"medium_p\"] = mw_results[\"p_value\"] < 1e-2\n",
    "mw_results.groupby([\"model\", \"value\"]).sum()[\"small_p\"]"
   ]
  },
  {
   "cell_type": "code",
   "execution_count": 7,
   "id": "87d7206a-eaea-4ecf-9314-b25f982221f6",
   "metadata": {},
   "outputs": [],
   "source": [
    "# for dataset in ALL_DATASETS:\n",
    "#     print(dataset)\n",
    "#     pivot = pd.pivot_table(mw_results[mw_results[\"dataset\"] == dataset],\n",
    "#                    index = [\"model\"],\n",
    "#                    columns = [\"value\"],\n",
    "#                    values = \"p_value\",\n",
    "#                    aggfunc = \"max\")\n",
    "#     pivot[\"norm_logits\"] = round(pivot[\"norm_logits\"], 3)\n",
    "#     pivot[\"raw_logits\"] = round(pivot[\"raw_logits\"], 3)\n",
    "#     display(pivot)\n",
    "#     print()"
   ]
  },
  {
   "cell_type": "code",
   "execution_count": 6,
   "id": "4439d7c4-40de-4162-bf98-938e05cd6e74",
   "metadata": {},
   "outputs": [
    {
     "name": "stdout",
     "output_type": "stream",
     "text": [
      "arc\n"
     ]
    },
    {
     "data": {
      "text/plain": [
       "model          value    \n",
       "Falcon-40b     MSP          2\n",
       "               max logit    1\n",
       "Falcon-7b      MSP          0\n",
       "               max logit    0\n",
       "Llama-13b      MSP          2\n",
       "               max logit    2\n",
       "Llama-70b      MSP          2\n",
       "               max logit    2\n",
       "Llama-7b       MSP          2\n",
       "               max logit    2\n",
       "Llama3-70b     MSP          2\n",
       "               max logit    2\n",
       "Llama3-8b      MSP          2\n",
       "               max logit    2\n",
       "Mistral        MSP          2\n",
       "               max logit    2\n",
       "Mixtral        MSP          2\n",
       "               max logit    2\n",
       "Solar          MSP          2\n",
       "               max logit    2\n",
       "Yi-34b         MSP          2\n",
       "               max logit    2\n",
       "Yi-6b          MSP          2\n",
       "               max logit    2\n",
       "gpt-3.5-turbo  MSP          2\n",
       "gpt-4-turbo    MSP          2\n",
       "Name: small_p, dtype: int64"
      ]
     },
     "metadata": {},
     "output_type": "display_data"
    },
    {
     "name": "stdout",
     "output_type": "stream",
     "text": [
      "\n",
      "hellaswag\n"
     ]
    },
    {
     "data": {
      "text/plain": [
       "model          value    \n",
       "Falcon-40b     MSP          2\n",
       "               max logit    2\n",
       "Falcon-7b      MSP          0\n",
       "               max logit    0\n",
       "Llama-13b      MSP          2\n",
       "               max logit    2\n",
       "Llama-70b      MSP          2\n",
       "               max logit    2\n",
       "Llama-7b       MSP          2\n",
       "               max logit    1\n",
       "Llama3-70b     MSP          2\n",
       "               max logit    2\n",
       "Llama3-8b      MSP          2\n",
       "               max logit    2\n",
       "Mistral        MSP          2\n",
       "               max logit    2\n",
       "Mixtral        MSP          2\n",
       "               max logit    2\n",
       "Solar          MSP          2\n",
       "               max logit    2\n",
       "Yi-34b         MSP          2\n",
       "               max logit    2\n",
       "Yi-6b          MSP          2\n",
       "               max logit    2\n",
       "gpt-3.5-turbo  MSP          2\n",
       "gpt-4-turbo    MSP          2\n",
       "Name: small_p, dtype: int64"
      ]
     },
     "metadata": {},
     "output_type": "display_data"
    },
    {
     "name": "stdout",
     "output_type": "stream",
     "text": [
      "\n",
      "mmlu\n"
     ]
    },
    {
     "data": {
      "text/plain": [
       "model          value    \n",
       "Falcon-40b     MSP          2\n",
       "               max logit    1\n",
       "Falcon-7b      MSP          0\n",
       "               max logit    0\n",
       "Llama-13b      MSP          2\n",
       "               max logit    2\n",
       "Llama-70b      MSP          2\n",
       "               max logit    2\n",
       "Llama-7b       MSP          2\n",
       "               max logit    2\n",
       "Llama3-70b     MSP          2\n",
       "               max logit    2\n",
       "Llama3-8b      MSP          2\n",
       "               max logit    2\n",
       "Mistral        MSP          2\n",
       "               max logit    2\n",
       "Mixtral        MSP          2\n",
       "               max logit    2\n",
       "Solar          MSP          2\n",
       "               max logit    2\n",
       "Yi-34b         MSP          2\n",
       "               max logit    2\n",
       "Yi-6b          MSP          2\n",
       "               max logit    2\n",
       "gpt-3.5-turbo  MSP          2\n",
       "gpt-4-turbo    MSP          2\n",
       "Name: small_p, dtype: int64"
      ]
     },
     "metadata": {},
     "output_type": "display_data"
    },
    {
     "name": "stdout",
     "output_type": "stream",
     "text": [
      "\n",
      "truthfulqa\n"
     ]
    },
    {
     "data": {
      "text/plain": [
       "model          value    \n",
       "Falcon-40b     MSP          1\n",
       "               max logit    0\n",
       "Falcon-7b      MSP          1\n",
       "               max logit    0\n",
       "Llama-13b      MSP          0\n",
       "               max logit    0\n",
       "Llama-70b      MSP          2\n",
       "               max logit    2\n",
       "Llama-7b       MSP          0\n",
       "               max logit    0\n",
       "Llama3-70b     MSP          2\n",
       "               max logit    2\n",
       "Llama3-8b      MSP          2\n",
       "               max logit    2\n",
       "Mistral        MSP          2\n",
       "               max logit    2\n",
       "Mixtral        MSP          2\n",
       "               max logit    2\n",
       "Solar          MSP          1\n",
       "               max logit    2\n",
       "Yi-34b         MSP          2\n",
       "               max logit    2\n",
       "Yi-6b          MSP          2\n",
       "               max logit    2\n",
       "gpt-3.5-turbo  MSP          2\n",
       "gpt-4-turbo    MSP          2\n",
       "Name: small_p, dtype: int64"
      ]
     },
     "metadata": {},
     "output_type": "display_data"
    },
    {
     "name": "stdout",
     "output_type": "stream",
     "text": [
      "\n",
      "winogrande\n"
     ]
    },
    {
     "data": {
      "text/plain": [
       "model          value    \n",
       "Falcon-40b     MSP          0\n",
       "               max logit    0\n",
       "Falcon-7b      MSP          0\n",
       "               max logit    0\n",
       "Llama-13b      MSP          0\n",
       "               max logit    0\n",
       "Llama-70b      MSP          2\n",
       "               max logit    0\n",
       "Llama-7b       MSP          0\n",
       "               max logit    0\n",
       "Llama3-70b     MSP          2\n",
       "               max logit    2\n",
       "Llama3-8b      MSP          2\n",
       "               max logit    2\n",
       "Mistral        MSP          2\n",
       "               max logit    2\n",
       "Mixtral        MSP          2\n",
       "               max logit    2\n",
       "Solar          MSP          2\n",
       "               max logit    2\n",
       "Yi-34b         MSP          2\n",
       "               max logit    2\n",
       "Yi-6b          MSP          2\n",
       "               max logit    2\n",
       "gpt-3.5-turbo  MSP          2\n",
       "gpt-4-turbo    MSP          2\n",
       "Name: small_p, dtype: int64"
      ]
     },
     "metadata": {},
     "output_type": "display_data"
    },
    {
     "name": "stdout",
     "output_type": "stream",
     "text": [
      "\n"
     ]
    }
   ],
   "source": [
    "for dataset in ALL_DATASETS:\n",
    "    print(dataset)\n",
    "    section = mw_results[mw_results[\"dataset\"] == dataset]\n",
    "    display(section.groupby([\"model\", \"value\"]).sum()[\"small_p\"])\n",
    "    print()"
   ]
  },
  {
   "cell_type": "code",
   "execution_count": null,
   "id": "55b69490-0629-40ea-9dc6-d39761d2968d",
   "metadata": {},
   "outputs": [],
   "source": []
  }
 ],
 "metadata": {
  "kernelspec": {
   "display_name": "Python 3 (ipykernel)",
   "language": "python",
   "name": "python3"
  },
  "language_info": {
   "codemirror_mode": {
    "name": "ipython",
    "version": 3
   },
   "file_extension": ".py",
   "mimetype": "text/x-python",
   "name": "python",
   "nbconvert_exporter": "python",
   "pygments_lexer": "ipython3",
   "version": "3.12.0"
  }
 },
 "nbformat": 4,
 "nbformat_minor": 5
}
